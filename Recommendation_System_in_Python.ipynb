{
 "cells": [
  {
   "cell_type": "code",
   "execution_count": 1,
   "metadata": {
    "id": "SKRYfHwWyVaG"
   },
   "outputs": [],
   "source": [
    "# Importing Libraries\n",
    "import numpy as np\n",
    "import pandas as pd\n",
    "import sklearn\n",
    "import matplotlib.pyplot as plt\n",
    "import seaborn as sns\n",
    "import warnings\n",
    "warnings.simplefilter(action='ignore', category=FutureWarning)"
   ]
  },
  {
   "cell_type": "code",
   "execution_count": 2,
   "metadata": {
    "colab": {
     "base_uri": "https://localhost:8080/"
    },
    "id": "v_ZFn93Wy1ho",
    "outputId": "97f98476-d909-4050-bc37-68369391d756"
   },
   "outputs": [
    {
     "name": "stdout",
     "output_type": "stream",
     "text": [
      "   userId  movieId  rating  timestamp\n",
      "0       1       17     4.0  944249077\n",
      "1       1       25     1.0  944250228\n",
      "2       1       29     2.0  943230976\n",
      "3       1       30     5.0  944249077\n",
      "4       1       32     5.0  943228858\n"
     ]
    }
   ],
   "source": [
    "#loading rating dataset\n",
    "ratings = pd.read_csv(\"ratings.csv\")\n",
    "print(ratings.head())"
   ]
  },
  {
   "cell_type": "code",
   "execution_count": 3,
   "metadata": {},
   "outputs": [
    {
     "data": {
      "text/plain": [
       "userId       0\n",
       "movieId      0\n",
       "rating       0\n",
       "timestamp    0\n",
       "dtype: int64"
      ]
     },
     "execution_count": 3,
     "metadata": {},
     "output_type": "execute_result"
    }
   ],
   "source": [
    "ratings.isnull().sum()"
   ]
  },
  {
   "cell_type": "code",
   "execution_count": 4,
   "metadata": {
    "colab": {
     "base_uri": "https://localhost:8080/"
    },
    "id": "_RCPOQWfy269",
    "outputId": "4c3c68a1-dbbb-4795-d96a-4f9c11d3731b"
   },
   "outputs": [
    {
     "name": "stdout",
     "output_type": "stream",
     "text": [
      "   movieId                               title  \\\n",
      "0        1                    Toy Story (1995)   \n",
      "1        2                      Jumanji (1995)   \n",
      "2        3             Grumpier Old Men (1995)   \n",
      "3        4            Waiting to Exhale (1995)   \n",
      "4        5  Father of the Bride Part II (1995)   \n",
      "\n",
      "                                        genres  \n",
      "0  Adventure|Animation|Children|Comedy|Fantasy  \n",
      "1                   Adventure|Children|Fantasy  \n",
      "2                               Comedy|Romance  \n",
      "3                         Comedy|Drama|Romance  \n",
      "4                                       Comedy  \n"
     ]
    }
   ],
   "source": [
    "# loading movie dataset\n",
    "movies = pd.read_csv(\"movies.csv\")\n",
    "print(movies.head())"
   ]
  },
  {
   "cell_type": "code",
   "execution_count": 5,
   "metadata": {},
   "outputs": [
    {
     "data": {
      "text/plain": [
       "movieId    0\n",
       "title      0\n",
       "genres     0\n",
       "dtype: int64"
      ]
     },
     "execution_count": 5,
     "metadata": {},
     "output_type": "execute_result"
    }
   ],
   "source": [
    "movies.isnull().sum()"
   ]
  },
  {
   "cell_type": "code",
   "execution_count": 6,
   "metadata": {},
   "outputs": [
    {
     "name": "stdout",
     "output_type": "stream",
     "text": [
      "   movieId                               title  (no genres listed)  Action  \\\n",
      "0        1                    Toy Story (1995)                   0       0   \n",
      "1        2                      Jumanji (1995)                   0       0   \n",
      "2        3             Grumpier Old Men (1995)                   0       0   \n",
      "3        4            Waiting to Exhale (1995)                   0       0   \n",
      "4        5  Father of the Bride Part II (1995)                   0       0   \n",
      "\n",
      "   Adventure  Animation  Children  Comedy  Crime  Documentary  ...  Film-Noir  \\\n",
      "0          1          1         1       1      0            0  ...          0   \n",
      "1          1          0         1       0      0            0  ...          0   \n",
      "2          0          0         0       1      0            0  ...          0   \n",
      "3          0          0         0       1      0            0  ...          0   \n",
      "4          0          0         0       1      0            0  ...          0   \n",
      "\n",
      "   Horror  IMAX  Musical  Mystery  Romance  Sci-Fi  Thriller  War  Western  \n",
      "0       0     0        0        0        0       0         0    0        0  \n",
      "1       0     0        0        0        0       0         0    0        0  \n",
      "2       0     0        0        0        1       0         0    0        0  \n",
      "3       0     0        0        0        1       0         0    0        0  \n",
      "4       0     0        0        0        0       0         0    0        0  \n",
      "\n",
      "[5 rows x 22 columns]\n"
     ]
    }
   ],
   "source": [
    "# Split the genres and create dummy variables\n",
    "genre_dummies = movies['genres'].str.get_dummies(sep='|')\n",
    "movies_new= pd.concat([movies, genre_dummies], axis=1)\n",
    "movies_new= movies_new.drop('genres', axis=1)\n",
    "print(movies_new.head())\n"
   ]
  },
  {
   "cell_type": "code",
   "execution_count": 7,
   "metadata": {},
   "outputs": [
    {
     "name": "stdout",
     "output_type": "stream",
     "text": [
      "Number of  movies with no genres listed: 7080\n"
     ]
    }
   ],
   "source": [
    "# count of movies with no genres listed .\n",
    "count_no_genres = (movies_new['(no genres listed)'] == 1).sum()\n",
    "print(f\"Number of  movies with no genres listed: {count_no_genres }\")"
   ]
  },
  {
   "cell_type": "code",
   "execution_count": 8,
   "metadata": {
    "colab": {
     "base_uri": "https://localhost:8080/"
    },
    "id": "ypivRYgqy4kb",
    "outputId": "360eef9e-9186-4ed6-ed50-fe8e6a3fabf0"
   },
   "outputs": [
    {
     "name": "stdout",
     "output_type": "stream",
     "text": [
      "Number of ratings: 32000204\n",
      "Number of unique movieId's: 84432\n",
      "Number of unique users: 200948\n",
      "Average ratings per user: 159.25\n",
      "Average ratings per movie: 379.01\n"
     ]
    }
   ],
   "source": [
    "n_ratings = len(ratings)\n",
    "n_movies = len(ratings['movieId'].unique())\n",
    "n_users = len(ratings['userId'].unique())\n",
    "\n",
    "print(f\"Number of ratings: {n_ratings}\")\n",
    "print(f\"Number of unique movieId's: {n_movies}\")\n",
    "print(f\"Number of unique users: {n_users}\")\n",
    "print(f\"Average ratings per user: {round(n_ratings/n_users, 2)}\")\n",
    "print(f\"Average ratings per movie: {round(n_ratings/n_movies, 2)}\")"
   ]
  },
  {
   "cell_type": "code",
   "execution_count": null,
   "metadata": {},
   "outputs": [
    {
     "name": "stdout",
     "output_type": "stream",
     "text": [
      "No rating found for movieId 10 and userId 1.\n"
     ]
    }
   ],
   "source": [
    "# Filter the DataFrame for the specific movieId and userId\n",
    "rating_value = ratings.loc[(ratings['movieId'] == 10) & (ratings['userId'] == 1), 'rating']\n",
    "\n",
    "# Get the value, if it exists\n",
    "if not rating_value.empty:\n",
    "    print(rating_value.values[0])  \n",
    "else:\n",
    "    print(\"No rating found for movieId 10 and userId 1.\")"
   ]
  },
  {
   "cell_type": "code",
   "execution_count": null,
   "metadata": {
    "colab": {
     "base_uri": "https://localhost:8080/"
    },
    "id": "PYZsye4-zAfi",
    "outputId": "fb38061d-d9bc-4552-de9b-de418780ec32"
   },
   "outputs": [
    {
     "name": "stdout",
     "output_type": "stream",
     "text": [
      "   userId  n_ratings\n",
      "0       1        141\n",
      "1       2         52\n",
      "2       3        147\n",
      "3       4         27\n",
      "4       5         33\n"
     ]
    }
   ],
   "source": [
    "user_freq = ratings[['userId', 'movieId']].groupby(\n",
    "    'userId').count().reset_index()\n",
    "user_freq.columns = ['userId', 'n_ratings']\n",
    "print(user_freq.head())\n"
   ]
  },
  {
   "cell_type": "code",
   "execution_count": 11,
   "metadata": {
    "id": "H1s9d6QIzBzv"
   },
   "outputs": [
    {
     "name": "stdout",
     "output_type": "stream",
     "text": [
      "           rating\n",
      "movieId          \n",
      "1        3.897438\n",
      "2        3.275758\n",
      "3        3.139447\n",
      "4        2.845331\n",
      "5        3.059602\n",
      "...           ...\n",
      "292731   4.000000\n",
      "292737   1.500000\n",
      "292753   4.000000\n",
      "292755   1.000000\n",
      "292757   3.500000\n",
      "\n",
      "[84432 rows x 1 columns]\n"
     ]
    }
   ],
   "source": [
    "# Find Lowest and Highest rated movies:\n",
    "mean_rating = ratings.groupby('movieId')[['rating']].mean()\n",
    "print(mean_rating)\n"
   ]
  },
  {
   "cell_type": "code",
   "execution_count": 12,
   "metadata": {},
   "outputs": [
    {
     "name": "stdout",
     "output_type": "stream",
     "text": [
      "      movieId            title genres\n",
      "5694     5805  Besotted (2001)  Drama\n",
      "          userId  movieId  rating   timestamp\n",
      "7806435    48903     5805     0.5  1184971591\n",
      "14341972   89686     5805     0.5  1092107651\n"
     ]
    }
   ],
   "source": [
    "# Lowest rated movies\n",
    "lowest_rated = mean_rating['rating'].idxmin()\n",
    "movies.loc[movies['movieId'] == lowest_rated]\n",
    "print(movies.loc[movies['movieId'] == lowest_rated])\n",
    "\n",
    "# show number of people who rated movies rated movie lowest\n",
    "ratings[ratings['movieId']==lowest_rated]\n",
    "print(ratings[ratings['movieId']==lowest_rated])"
   ]
  },
  {
   "cell_type": "code",
   "execution_count": 13,
   "metadata": {},
   "outputs": [
    {
     "name": "stdout",
     "output_type": "stream",
     "text": [
      "      movieId                       title       genres\n",
      "9644    31945  Always a Bridesmaid (2000)  Documentary\n",
      "          userId  movieId  rating   timestamp\n",
      "14497441   90716    31945     5.0  1553102189\n"
     ]
    }
   ],
   "source": [
    "# Highest rated movies\n",
    "highest_rated = mean_rating['rating'].idxmax()\n",
    "movies.loc[movies['movieId'] == highest_rated]\n",
    "print(movies.loc[movies['movieId'] == highest_rated])\n",
    "\n",
    "# show number of people who rated movies rated movie highest\n",
    "ratings[ratings['movieId']==highest_rated]\n",
    "print(ratings[ratings['movieId']==highest_rated])"
   ]
  },
  {
   "cell_type": "code",
   "execution_count": 14,
   "metadata": {},
   "outputs": [
    {
     "name": "stdout",
     "output_type": "stream",
     "text": [
      "         count      mean\n",
      "movieId                 \n",
      "1        68997  3.897438\n",
      "2        28904  3.275758\n",
      "3        13134  3.139447\n",
      "4         2806  2.845331\n",
      "5        13154  3.059602\n"
     ]
    }
   ],
   "source": [
    "# Calculate Movie Statistics:\n",
    "movie_stats = ratings.groupby('movieId')[['rating']].agg(['count', 'mean'])\n",
    "movie_stats.columns = movie_stats.columns.droplevel()\n",
    "print(movie_stats.head())"
   ]
  },
  {
   "cell_type": "code",
   "execution_count": 15,
   "metadata": {
    "id": "2tG23gzjzDLg"
   },
   "outputs": [],
   "source": [
    "# create user-item matrix using scipy csr matrix :\n",
    "from scipy.sparse import csr_matrix\n",
    "\n",
    "def create_matrix(df):\n",
    "\n",
    "    N = len(df['userId'].unique())\n",
    "    M = len(df['movieId'].unique())\n",
    "\n",
    "    # Map Ids to indices\n",
    "    user_mapper = dict(zip(np.unique(df[\"userId\"]), list(range(N))))\n",
    "    movie_mapper = dict(zip(np.unique(df[\"movieId\"]), list(range(M))))\n",
    "\n",
    "    # Map indices to IDs\n",
    "    user_inv_mapper = dict(zip(list(range(N)), np.unique(df[\"userId\"])))\n",
    "    movie_inv_mapper = dict(zip(list(range(M)), np.unique(df[\"movieId\"])))\n",
    "\n",
    "    user_index = [user_mapper[i] for i in df['userId']]\n",
    "    movie_index = [movie_mapper[i] for i in df['movieId']]\n",
    "\n",
    "    X = csr_matrix((df[\"rating\"], (movie_index, user_index)), shape=(M, N))  #X sparse matrix (ROWS , COLUMNS , VALUES)\n",
    "    # print(X)\n",
    "\n",
    "    return X, user_mapper, movie_mapper, user_inv_mapper, movie_inv_mapper\n",
    "\n",
    "X, user_mapper, movie_mapper, user_inv_mapper, movie_inv_mapper = create_matrix(ratings)"
   ]
  },
  {
   "cell_type": "code",
   "execution_count": 16,
   "metadata": {},
   "outputs": [
    {
     "name": "stdout",
     "output_type": "stream",
     "text": [
      "User 10 rated Movie 1 with a rating of 2.5.\n"
     ]
    }
   ],
   "source": [
    "# identitfy movie_id using  movie_inv_mapper \n",
    "\n",
    "movie_id = movie_inv_mapper[0]  # Get movieId for row index 0 \n",
    "user_id = user_inv_mapper[9]     # Get userId for column index 9\n",
    "\n",
    "print(f\"User {user_id} rated Movie {movie_id} with a rating of 2.5.\")"
   ]
  },
  {
   "cell_type": "code",
   "execution_count": 17,
   "metadata": {
    "colab": {
     "base_uri": "https://localhost:8080/"
    },
    "id": "onBGmGk5zGAZ",
    "outputId": "c5a409ff-c16d-413f-9339-a2ff977eef69"
   },
   "outputs": [
    {
     "name": "stdout",
     "output_type": "stream",
     "text": [
      "Since you watched Grumpier Old Men (1995)\n",
      "Father of the Bride Part II (1995)\n",
      "Twister (1996)\n",
      "Nutty Professor, The (1996)\n",
      "Mr. Holland's Opus (1995)\n",
      "Executive Decision (1996)\n",
      "Sabrina (1995)\n",
      "Eraser (1996)\n",
      "Birdcage, The (1996)\n",
      "Broken Arrow (1996)\n",
      "Phenomenon (1996)\n"
     ]
    }
   ],
   "source": [
    "# Find similar movies using KNN\n",
    "from sklearn.neighbors import NearestNeighbors\n",
    "def find_similar_movies(movie_id, X, k, metric='cosine', show_distance=False):\n",
    "\n",
    "    neighbour_ids = []\n",
    "\n",
    "    movie_ind = movie_mapper[movie_id] \n",
    "    movie_vec = X[movie_ind]\n",
    "    k+=1\n",
    "    kNN = NearestNeighbors(n_neighbors=k, algorithm=\"brute\", metric=metric)\n",
    "    kNN.fit(X)\n",
    "    movie_vec = movie_vec.reshape(1,-1)\n",
    "    neighbour = kNN.kneighbors(movie_vec, return_distance=show_distance)\n",
    "    for i in range(0,k):\n",
    "        n = neighbour.item(i)\n",
    "        neighbour_ids.append(movie_inv_mapper[n])\n",
    "    neighbour_ids.pop(0)\n",
    "    return neighbour_ids\n",
    "\n",
    "\n",
    "movie_titles = dict(zip(movies['movieId'], movies['title']))\n",
    "\n",
    "movie_id = 3  # changeable \n",
    "\n",
    "similar_ids = find_similar_movies(movie_id, X, k=10)\n",
    "movie_title = movie_titles[movie_id]\n",
    "\n",
    "print(f\"Since you watched {movie_title}\")\n",
    "for i in similar_ids:\n",
    "    print(movie_titles[i])"
   ]
  },
  {
   "cell_type": "code",
   "execution_count": 18,
   "metadata": {
    "id": "PrN_SjhMzHxy"
   },
   "outputs": [],
   "source": [
    "def recommend_movies_for_user(user_id, X, user_mapper, movie_mapper, movie_inv_mapper, k=10):\n",
    "    df1 = ratings[ratings['userId'] == user_id]\n",
    "\n",
    "    if df1.empty:\n",
    "        print(f\"User with ID {user_id} does not exist.\")\n",
    "        return\n",
    "\n",
    "    movie_id = df1[df1['rating'] == max(df1['rating'])]['movieId'].iloc[0]\n",
    "\n",
    "    movie_titles = dict(zip(movies['movieId'], movies['title']))\n",
    "\n",
    "    similar_ids = find_similar_movies(movie_id, X, k)\n",
    "    movie_title = movie_titles.get(movie_id, \"Movie not found\")\n",
    "\n",
    "    if movie_title == \"Movie not found\":\n",
    "        print(f\"Movie with ID {movie_id} not found.\")\n",
    "        return\n",
    "\n",
    "    print(f\"Since you watched {movie_title}, you might also like:\")\n",
    "    for i in similar_ids:\n",
    "        print(movie_titles.get(i, \"Movie not found\"))"
   ]
  },
  {
   "cell_type": "code",
   "execution_count": 19,
   "metadata": {
    "colab": {
     "base_uri": "https://localhost:8080/"
    },
    "id": "L13wNuTOzJry",
    "outputId": "5316c18d-8323-4fc8-8ed0-a503edf93f29"
   },
   "outputs": [
    {
     "name": "stdout",
     "output_type": "stream",
     "text": [
      "Since you watched City of Lost Children, The (Cité des enfants perdus, La) (1995), you might also like:\n",
      "Delicatessen (1991)\n",
      "Brazil (1985)\n",
      "Dark City (1998)\n",
      "Twelve Monkeys (a.k.a. 12 Monkeys) (1995)\n",
      "Pi (1998)\n",
      "Blade Runner (1982)\n",
      "Clockwork Orange, A (1971)\n",
      "Trainspotting (1996)\n",
      "Akira (1988)\n",
      "Ghost in the Shell (Kôkaku kidôtai) (1995)\n"
     ]
    }
   ],
   "source": [
    "user_id = 150  # changeable\n",
    "recommend_movies_for_user(user_id, X, user_mapper, movie_mapper, movie_inv_mapper, k=10)"
   ]
  },
  {
   "cell_type": "code",
   "execution_count": 20,
   "metadata": {
    "colab": {
     "base_uri": "https://localhost:8080/"
    },
    "id": "pEZ5ISP8zLB1",
    "outputId": "e61b8c3f-db5d-4c49-b876-5bc19a490ce4"
   },
   "outputs": [
    {
     "name": "stdout",
     "output_type": "stream",
     "text": [
      "Since you watched Matrix, The (1999), you might also like:\n",
      "Fight Club (1999)\n",
      "Lord of the Rings: The Fellowship of the Ring, The (2001)\n",
      "Lord of the Rings: The Return of the King, The (2003)\n",
      "Lord of the Rings: The Two Towers, The (2002)\n",
      "Star Wars: Episode V - The Empire Strikes Back (1980)\n",
      "Star Wars: Episode IV - A New Hope (1977)\n",
      "Gladiator (2000)\n",
      "Raiders of the Lost Ark (Indiana Jones and the Raiders of the Lost Ark) (1981)\n",
      "Shawshank Redemption, The (1994)\n",
      "Sixth Sense, The (1999)\n"
     ]
    }
   ],
   "source": [
    "user_id = 415  # another user_id\n",
    "recommend_movies_for_user(user_id, X, user_mapper, movie_mapper, movie_inv_mapper, k=10)"
   ]
  }
 ],
 "metadata": {
  "colab": {
   "provenance": []
  },
  "kernelspec": {
   "display_name": "base",
   "language": "python",
   "name": "python3"
  },
  "language_info": {
   "codemirror_mode": {
    "name": "ipython",
    "version": 3
   },
   "file_extension": ".py",
   "mimetype": "text/x-python",
   "name": "python",
   "nbconvert_exporter": "python",
   "pygments_lexer": "ipython3",
   "version": "3.8.8"
  }
 },
 "nbformat": 4,
 "nbformat_minor": 0
}
