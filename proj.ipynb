{
  "cells": [
    {
      "cell_type": "code",
      "execution_count": 1,
      "metadata": {
        "id": "fj2oKW-awP3H"
      },
      "outputs": [],
      "source": [
        "# Importing Libraries\n",
        "import numpy as np\n",
        "import pandas as pd\n",
        "import sklearn\n",
        "import matplotlib.pyplot as plt\n",
        "import seaborn as sns\n",
        "import warnings\n",
        "warnings.simplefilter(action='ignore', category=FutureWarning)"
      ]
    },
    {
      "cell_type": "code",
      "execution_count": 3,
      "metadata": {
        "colab": {
          "base_uri": "https://localhost:8080/",
          "height": 206
        },
        "id": "OOAiLw1fwh5k",
        "outputId": "0d8b4972-6056-4667-f192-0afb82809d67"
      },
      "outputs": [
        {
          "data": {
            "text/html": [
              "<div>\n",
              "<style scoped>\n",
              "    .dataframe tbody tr th:only-of-type {\n",
              "        vertical-align: middle;\n",
              "    }\n",
              "\n",
              "    .dataframe tbody tr th {\n",
              "        vertical-align: top;\n",
              "    }\n",
              "\n",
              "    .dataframe thead th {\n",
              "        text-align: right;\n",
              "    }\n",
              "</style>\n",
              "<table border=\"1\" class=\"dataframe\">\n",
              "  <thead>\n",
              "    <tr style=\"text-align: right;\">\n",
              "      <th></th>\n",
              "      <th>userId</th>\n",
              "      <th>movieId</th>\n",
              "      <th>rating</th>\n",
              "      <th>timestamp</th>\n",
              "    </tr>\n",
              "  </thead>\n",
              "  <tbody>\n",
              "    <tr>\n",
              "      <th>0</th>\n",
              "      <td>1</td>\n",
              "      <td>17</td>\n",
              "      <td>4.0</td>\n",
              "      <td>944249077</td>\n",
              "    </tr>\n",
              "    <tr>\n",
              "      <th>1</th>\n",
              "      <td>1</td>\n",
              "      <td>25</td>\n",
              "      <td>1.0</td>\n",
              "      <td>944250228</td>\n",
              "    </tr>\n",
              "    <tr>\n",
              "      <th>2</th>\n",
              "      <td>1</td>\n",
              "      <td>29</td>\n",
              "      <td>2.0</td>\n",
              "      <td>943230976</td>\n",
              "    </tr>\n",
              "    <tr>\n",
              "      <th>3</th>\n",
              "      <td>1</td>\n",
              "      <td>30</td>\n",
              "      <td>5.0</td>\n",
              "      <td>944249077</td>\n",
              "    </tr>\n",
              "    <tr>\n",
              "      <th>4</th>\n",
              "      <td>1</td>\n",
              "      <td>32</td>\n",
              "      <td>5.0</td>\n",
              "      <td>943228858</td>\n",
              "    </tr>\n",
              "  </tbody>\n",
              "</table>\n",
              "</div>"
            ],
            "text/plain": [
              "   userId  movieId  rating  timestamp\n",
              "0       1       17     4.0  944249077\n",
              "1       1       25     1.0  944250228\n",
              "2       1       29     2.0  943230976\n",
              "3       1       30     5.0  944249077\n",
              "4       1       32     5.0  943228858"
            ]
          },
          "execution_count": 3,
          "metadata": {},
          "output_type": "execute_result"
        }
      ],
      "source": [
        "#loading rating dataset\n",
        "ratings = pd.read_csv(r\"D:\\DEPI\\ratings.csv\")\n",
        "ratings.head()"
      ]
    },
    {
      "cell_type": "code",
      "execution_count": 4,
      "metadata": {
        "colab": {
          "base_uri": "https://localhost:8080/",
          "height": 206
        },
        "id": "kai2yE0_wjGV",
        "outputId": "6eb8c135-2820-44d8-e63e-97484ab393e4"
      },
      "outputs": [
        {
          "data": {
            "text/html": [
              "<div>\n",
              "<style scoped>\n",
              "    .dataframe tbody tr th:only-of-type {\n",
              "        vertical-align: middle;\n",
              "    }\n",
              "\n",
              "    .dataframe tbody tr th {\n",
              "        vertical-align: top;\n",
              "    }\n",
              "\n",
              "    .dataframe thead th {\n",
              "        text-align: right;\n",
              "    }\n",
              "</style>\n",
              "<table border=\"1\" class=\"dataframe\">\n",
              "  <thead>\n",
              "    <tr style=\"text-align: right;\">\n",
              "      <th></th>\n",
              "      <th>movieId</th>\n",
              "      <th>title</th>\n",
              "      <th>genres</th>\n",
              "    </tr>\n",
              "  </thead>\n",
              "  <tbody>\n",
              "    <tr>\n",
              "      <th>0</th>\n",
              "      <td>1</td>\n",
              "      <td>Toy Story (1995)</td>\n",
              "      <td>Adventure|Animation|Children|Comedy|Fantasy</td>\n",
              "    </tr>\n",
              "    <tr>\n",
              "      <th>1</th>\n",
              "      <td>2</td>\n",
              "      <td>Jumanji (1995)</td>\n",
              "      <td>Adventure|Children|Fantasy</td>\n",
              "    </tr>\n",
              "    <tr>\n",
              "      <th>2</th>\n",
              "      <td>3</td>\n",
              "      <td>Grumpier Old Men (1995)</td>\n",
              "      <td>Comedy|Romance</td>\n",
              "    </tr>\n",
              "    <tr>\n",
              "      <th>3</th>\n",
              "      <td>4</td>\n",
              "      <td>Waiting to Exhale (1995)</td>\n",
              "      <td>Comedy|Drama|Romance</td>\n",
              "    </tr>\n",
              "    <tr>\n",
              "      <th>4</th>\n",
              "      <td>5</td>\n",
              "      <td>Father of the Bride Part II (1995)</td>\n",
              "      <td>Comedy</td>\n",
              "    </tr>\n",
              "  </tbody>\n",
              "</table>\n",
              "</div>"
            ],
            "text/plain": [
              "   movieId                               title  \\\n",
              "0        1                    Toy Story (1995)   \n",
              "1        2                      Jumanji (1995)   \n",
              "2        3             Grumpier Old Men (1995)   \n",
              "3        4            Waiting to Exhale (1995)   \n",
              "4        5  Father of the Bride Part II (1995)   \n",
              "\n",
              "                                        genres  \n",
              "0  Adventure|Animation|Children|Comedy|Fantasy  \n",
              "1                   Adventure|Children|Fantasy  \n",
              "2                               Comedy|Romance  \n",
              "3                         Comedy|Drama|Romance  \n",
              "4                                       Comedy  "
            ]
          },
          "execution_count": 4,
          "metadata": {},
          "output_type": "execute_result"
        }
      ],
      "source": [
        "# loading movie dataset\n",
        "movies = pd.read_csv(r\"D:\\DEPI\\movies.csv\")\n",
        "movies.head()"
      ]
    },
    {
      "cell_type": "markdown",
      "metadata": {
        "id": "kBTNG9nczE6o"
      },
      "source": [
        "**Advanced** **Techniques**"
      ]
    },
    {
      "cell_type": "markdown",
      "metadata": {
        "id": "385ryj0QyyIt"
      },
      "source": [
        "**GANS**"
      ]
    },
    {
      "cell_type": "code",
      "execution_count": 63,
      "metadata": {
        "id": "RYqmhaZ_yS9_"
      },
      "outputs": [],
      "source": [
        "import tensorflow as tf\n",
        "from sklearn.preprocessing import MinMaxScaler\n",
        "import torch\n",
        "import torch.nn as nn"
      ]
    },
    {
      "cell_type": "code",
      "execution_count": 64,
      "metadata": {
        "id": "n7zT9-mfyxYS"
      },
      "outputs": [],
      "source": [
        "#normalize ratings for gans\n",
        "scaler = MinMaxScaler()\n",
        "ratings['rating'] = scaler.fit_transform(ratings[['rating']])\n",
        "\n",
        "# data to a tensorFlow dataset\n",
        "df = tf.data.Dataset.from_tensor_slices((ratings['userId'], ratings['movieId'], ratings['rating']))\n",
        "\n",
        "# shuffle and batch the dataset\n",
        "batch_size = 64\n",
        "df = df.shuffle(buffer_size=1024).batch(batch_size)\n",
        "\n",
        "# prefetch for performance\n",
        "df = df.prefetch(buffer_size=tf.data.experimental.AUTOTUNE)\n",
        "\n",
        "# create an iterator to convert batches into numpy arrays\n",
        "iterator = iter(df)\n",
        "\n",
        "# fetch a batch from the iterator\n",
        "user_batch, movie_batch, rating_batch = next(iterator)\n",
        "\n",
        "# tensorFlow tensors to NumPy arrays\n",
        "user_batch = user_batch.numpy()\n",
        "movie_batch = movie_batch.numpy()\n",
        "rating_batch = rating_batch.numpy()\n"
      ]
    },
    {
      "cell_type": "code",
      "execution_count": 65,
      "metadata": {
        "id": "sNuI5Z851ONH"
      },
      "outputs": [],
      "source": [
        "# define generator\n",
        "def generator(latent_dim):\n",
        "    model = nn.Sequential(\n",
        "        nn.Linear(latent_dim, 128),\n",
        "        nn.ReLU(),\n",
        "        nn.Linear(128, 256),\n",
        "        nn.ReLU(),\n",
        "        nn.Linear(256, 512),\n",
        "        nn.ReLU(),\n",
        "        nn.Linear(512, 3),\n",
        "        nn.Sigmoid()\n",
        "    )\n",
        "    return model"
      ]
    },
    {
      "cell_type": "code",
      "execution_count": 66,
      "metadata": {
        "id": "A3KFXKQx1P7b"
      },
      "outputs": [],
      "source": [
        "# define discriminator\n",
        "def discriminator():\n",
        "    model = nn.Sequential(\n",
        "        nn.Linear(3, 512),\n",
        "        nn.ReLU(),\n",
        "        nn.Linear(512, 256),\n",
        "        nn.ReLU(),\n",
        "        nn.Linear(256, 128),\n",
        "        nn.ReLU(),\n",
        "        nn.Linear(128, 1),\n",
        "        nn.Sigmoid()\n",
        "    )\n",
        "    return model"
      ]
    },
    {
      "cell_type": "code",
      "execution_count": 67,
      "metadata": {
        "id": "Geq4enqE1geX"
      },
      "outputs": [],
      "source": [
        "# training loop for a gans\n",
        "\n",
        "def train_gan(generator, discriminator, real_data, latent_dim, epochs, batch_size):\n",
        "    # define optimizers\n",
        "    optimizer_g = torch.optim.Adam(generator.parameters(), lr=0.01)\n",
        "    optimizer_d = torch.optim.Adam(discriminator.parameters(), lr=0.01)\n",
        "\n",
        "    # define loss function\n",
        "    criterion = nn.BCELoss()\n",
        "\n",
        "    for epoch in range(epochs):\n",
        "        # create real and fake labels\n",
        "        real_labels = torch.ones((batch_size, 1))\n",
        "        fake_labels = torch.zeros((batch_size, 1))\n",
        "\n",
        "\n",
        "        # train discriminator\n",
        "        optimizer_d.zero_grad()\n",
        "\n",
        "        # real data to tensor\n",
        "        real_data = torch.FloatTensor(real_data)\n",
        "        d_loss_real = criterion(discriminator(real_data), real_labels)\n",
        "\n",
        "\n",
        "        # fake data\n",
        "        z = torch.randn(batch_size, latent_dim)\n",
        "        # noise to create fake data by generator\n",
        "        fake_data = generator(z)\n",
        "        d_loss_fake = criterion(discriminator(fake_data.detach()), fake_labels)\n",
        "\n",
        "        # total discriminator loss\n",
        "        d_loss = (d_loss_real + d_loss_fake) / 2\n",
        "        d_loss.backward()\n",
        "        optimizer_d.step()\n",
        "\n",
        "\n",
        "\n",
        "        # train generator\n",
        "        optimizer_g.zero_grad()\n",
        "\n",
        "        g_loss = criterion(discriminator(fake_data), real_labels)\n",
        "        # gradients for the generator\n",
        "        g_loss.backward()\n",
        "        # updates weight\n",
        "        optimizer_g.step()\n",
        "\n",
        "        if epoch % 1000 == 0:\n",
        "            print(f\"Epoch {epoch}: D Loss: {d_loss.item()}, G Loss: {g_loss.item()}\")\n"
      ]
    },
    {
      "cell_type": "code",
      "execution_count": 68,
      "metadata": {
        "colab": {
          "base_uri": "https://localhost:8080/"
        },
        "id": "l3dnsgOn3n1l",
        "outputId": "61c746bd-baaa-4974-cb1a-af47ec25075f"
      },
      "outputs": [
        {
          "name": "stdout",
          "output_type": "stream",
          "text": [
            "Epoch 0: D Loss: 0.36299222707748413, G Loss: 0.5332573652267456\n",
            "Epoch 1000: D Loss: 6.390917353773512e-19, G Loss: 41.20109176635742\n",
            "Epoch 2000: D Loss: 6.390917353773512e-19, G Loss: 41.20109176635742\n",
            "Epoch 3000: D Loss: 6.390917353773512e-19, G Loss: 41.20109176635742\n",
            "Epoch 4000: D Loss: 6.390917353773512e-19, G Loss: 41.20109176635742\n"
          ]
        }
      ],
      "source": [
        " #initialize & train gan to generate fake data based on real data\n",
        "\n",
        "\n",
        "# define latent dimension for noise input to generator\n",
        "latent_dim = 1000\n",
        "\n",
        "# initialize generator and discriminator\n",
        "gen = generator (latent_dim)\n",
        "dis = discriminator()\n",
        "\n",
        "user_movie_ratings = np.column_stack((user_batch, movie_batch, rating_batch))\n",
        "\n",
        "# train the gan with real data\n",
        "train_gan(gen, dis, user_movie_ratings, latent_dim=latent_dim, epochs=5000, batch_size=64)"
      ]
    },
    {
      "cell_type": "code",
      "execution_count": 69,
      "metadata": {
        "colab": {
          "base_uri": "https://localhost:8080/"
        },
        "id": "JtVuyNWtAIIa",
        "outputId": "48c5a39c-7168-4795-8593-ada67cdc7c02"
      },
      "outputs": [
        {
          "name": "stdout",
          "output_type": "stream",
          "text": [
            "Epoch 0: Loss = 0.21997517347335815\n",
            "Stopping early at epoch 27 due to no improvement in loss.\n"
          ]
        }
      ],
      "source": [
        "# stopping criteria\n",
        "\n",
        "#define stopping criteria\n",
        "def train_gan(generator, latent_dim, epochs=10000, patience=10):\n",
        "    best_loss = float('inf')\n",
        "    epochs_without_improvement = 0\n",
        "    stopping_criteria_met = False\n",
        "\n",
        "    #train loop\n",
        "    for epoch in range(epochs):\n",
        "        # replace simulated loss with actual loss\n",
        "        loss = torch.randn(1).item()\n",
        "\n",
        "        # check if loss improved\n",
        "        if loss < best_loss:\n",
        "            best_loss = loss\n",
        "            epochs_without_improvement = 0\n",
        "        else:\n",
        "            epochs_without_improvement += 1\n",
        "\n",
        "        # early stopping condition\n",
        "        if epochs_without_improvement >= patience:\n",
        "            print(f\"Stopping early at epoch {epoch} due to no improvement in loss.\")\n",
        "            stopping_criteria_met = True\n",
        "            break\n",
        "\n",
        "        if epoch % 1000 == 0:\n",
        "            print(f'Epoch {epoch}: Loss = {loss}')\n",
        "\n",
        "    if not stopping_criteria_met:\n",
        "        print(f\"Training completed for {epochs} epochs.\")\n",
        "\n",
        "latent_dim = 10\n",
        "generator = generator(latent_dim)\n",
        "\n",
        "train_gan(generator, latent_dim, epochs=10000, patience=10)\n"
      ]
    },
    {
      "cell_type": "markdown",
      "metadata": {
        "id": "4CgiyduB5Weq"
      },
      "source": [
        "**MLOPs**"
      ]
    },
    {
      "cell_type": "markdown",
      "metadata": {
        "id": "u0nWg2l-5i5h"
      },
      "source": [
        "MLFLOW"
      ]
    },
    {
      "cell_type": "code",
      "execution_count": null,
      "metadata": {},
      "outputs": [],
      "source": [
        "import mlflow\n",
        "import mlflow.sklearn \n",
        "from sklearn.model_selection import train_test_split\n",
        "from sklearn.neighbors import NearestNeighbors\n",
        "from sklearn.metrics import  precision_score\n",
        "\n",
        "\n",
        "mlflow.set_tracking_uri(uri=\"http://127.0.0.1:5000\")\n",
        "mlflow.set_experiment(\"recommendation_system_experiment\")\n",
        "\n",
        "model = pd.merge(ratings, movies, on='movieId')\n",
        "\n",
        "train_data , test_data = train_test_split(model , test_size=0.3 , random_state=42)\n",
        "\n",
        "with mlflow.start_run() :\n",
        "     \n",
        "    n_neighbors = 5  # Number of neighbors\n",
        "    algorithm = 'auto'  # Algorithm used to search for neighbors\n",
        "    mlflow.log_param(\"n_neighbors\", n_neighbors)\n",
        "    mlflow.log_param(\"algorithm\", algorithm)\n",
        "\n",
        "    knn = NearestNeighbors(n_neighbors=n_neighbors, algorithm=algorithm, metric='cosine')\n",
        "    knn.fit(model)\n",
        "\n",
        "    distances, indices = knn.kneighbors(model)\n",
        "\n",
        "    k = 5\n",
        "\n",
        "    user_id = int(input(\"Enter user ID between 1 & 5 : \")) \n",
        "    user_ratings = ratings[ratings['userId'] == user_id]\n",
        "\n",
        "    if user_ratings.empty:\n",
        "\n",
        "        print(f\"No ratings found for user ID {user_id}. Please check the ID and try again.\")\n",
        "\n",
        "    else:\n",
        "        predicted_ratings = model[user_id - 1] \n",
        "\n",
        "        actual_ratings = user_ratings['rating'].tolist()\n",
        "\n",
        "        threshold = 3\n",
        "        \n",
        "        # Convert actual and predicted ratings to binary values (1 for relevant, 0 for not relevant)\n",
        "        actual_binary = [1 if rating >= threshold else 0 for rating in actual_ratings]\n",
        "        predicted_binary = [1 if rating >= threshold else 0 for rating in predicted_ratings if rating > 0]  # Ensure only valid predicted ratings\n",
        "\n",
        "        # Calculate Precision\n",
        "        precision = precision_score(actual_binary, predicted_binary, zero_division=0)\n",
        "\n",
        "        mlflow.log_metric(\"Precision\", precision)\n",
        "        \n",
        "        print(\"Precision: \" , precision )\n",
        "\n",
        "mlflow.end_run()\n",
        "        "
      ]
    },
    {
      "cell_type": "code",
      "execution_count": 70,
      "metadata": {
        "id": "QLjOo8dw5qEs"
      },
      "outputs": [],
      "source": [
        "model = pd.merge(ratings, movies, on='movieId')"
      ]
    },
    {
      "cell_type": "markdown",
      "metadata": {
        "id": "0zrx1qyA59TQ"
      },
      "source": [
        "Prompt Engineering"
      ]
    },
    {
      "cell_type": "code",
      "execution_count": 71,
      "metadata": {
        "colab": {
          "base_uri": "https://localhost:8080/"
        },
        "id": "Aa2xaEYh6QWW",
        "outputId": "50f0596f-dc79-49c8-9452-5bcf4b3bb613"
      },
      "outputs": [
        {
          "name": "stdout",
          "output_type": "stream",
          "text": [
            "Welcome to the Movie Recommendation Bot!\n",
            "Enter a rating to find movies or 'quit' to exit): 1\n",
            "Movies with a rating of 1.0: Shanghai Triad (Yao a yao yao dao waipo qiao) (1995), Twelve Monkeys (a.k.a. 12 Monkeys) (1995), White Balloon, The (Badkonake sefid) (1995), Taxi Driver (1976), Doom Generation, The (1995)\n",
            "Enter a rating to find movies or 'quit' to exit): quit\n",
            "Goodbye! Enjoy your movies!\n"
          ]
        }
      ],
      "source": [
        "# recommend movies function based on rating\n",
        "def recommend_movies_rating(rating_input):\n",
        "\n",
        "\n",
        "    # filter data to get movies that user ask for\n",
        "    recommended_movies = model[model['rating'] == rating_input]\n",
        "\n",
        "    if recommended_movies.empty:\n",
        "        return [\"Sorry, no movies found with that rating.\"]\n",
        "\n",
        "    # extract the movie titles from the filtered DataFrame\n",
        "    return recommended_movies['title'].unique()[:5]\n",
        "\n",
        "# chatbot function\n",
        "def movies_rating_chatbot():\n",
        "    print(\"Welcome to the Movie Recommendation Bot!\")\n",
        "\n",
        "    while True:\n",
        "        # ask the user for a rating to search for movies\n",
        "        user_input = input(\"Enter a rating to find movies or 'quit' to exit): \").strip()\n",
        "\n",
        "        if user_input.lower() == 'quit':\n",
        "            print(\"Goodbye! Enjoy your movies!\")\n",
        "            break\n",
        "\n",
        "        try:\n",
        "            # convert input to float for rating comparison\n",
        "            rating_input = float(user_input)\n",
        "\n",
        "            if rating_input < 1 or rating_input > 5:\n",
        "                print(\"Please enter a rating between 1 and 5.\")\n",
        "                continue\n",
        "\n",
        "        except ValueError:\n",
        "            print(\"Please enter a valid number.\")\n",
        "            continue\n",
        "\n",
        "        # get recommendations based on rating\n",
        "        recommendations = recommend_movies_rating(rating_input)\n",
        "\n",
        "        # run recommended movies\n",
        "        if len(recommendations) > 0:\n",
        "            print(f\"Movies with a rating of {rating_input}: {', '.join(recommendations)}\")\n",
        "        else:\n",
        "            print(f\"Sorry, no movies found with a rating of {rating_input}.\")\n",
        "\n",
        "# run chatbot\n",
        "movies_rating_chatbot()\n",
        "\n"
      ]
    }
  ],
  "metadata": {
    "colab": {
      "provenance": []
    },
    "kernelspec": {
      "display_name": "base",
      "language": "python",
      "name": "python3"
    },
    "language_info": {
      "codemirror_mode": {
        "name": "ipython",
        "version": 3
      },
      "file_extension": ".py",
      "mimetype": "text/x-python",
      "name": "python",
      "nbconvert_exporter": "python",
      "pygments_lexer": "ipython3",
      "version": "3.12.4"
    }
  },
  "nbformat": 4,
  "nbformat_minor": 0
}
