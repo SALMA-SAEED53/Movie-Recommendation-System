{
 "cells": [
  {
   "cell_type": "code",
   "execution_count": 1,
   "metadata": {},
   "outputs": [
    {
     "name": "stdout",
     "output_type": "stream",
     "text": [
      "       movieId                                      title  \\\n",
      "475        480                       Jurassic Park (1993)   \n",
      "1258      1291  Indiana Jones and the Last Crusade (1989)   \n",
      "1922      2011          Back to the Future Part II (1989)   \n",
      "67645   217971           Primal: Tales of Savagery (2020)   \n",
      "71308   229773             Adventure Time: Islands (2017)   \n",
      "\n",
      "                                        genres  \n",
      "475      [Action, Adventure, Sci-Fi, Thriller]  \n",
      "1258                       [Action, Adventure]  \n",
      "1922               [Adventure, Comedy, Sci-Fi]  \n",
      "67645           [Action, Adventure, Animation]  \n",
      "71308  [Adventure, Animation, Comedy, Fantasy]  \n"
     ]
    }
   ],
   "source": [
    "import pandas as pd\n",
    "from surprise import Dataset, Reader, SVD\n",
    "from surprise.model_selection import train_test_split\n",
    "from surprise import accuracy\n",
    "\n",
    "\n",
    "ratings = pd.read_csv('ratings.csv')\n",
    "movies = pd.read_csv('movies.csv')\n",
    "\n",
    "# Preprocess genre data (x|y) and rating \n",
    "movies['genres'] = movies['genres'].apply(lambda x: x.split('|'))\n",
    "reader = Reader(rating_scale=(0.5, 5.0))\n",
    "\n",
    "# dataset into Surprise\n",
    "data = Dataset.load_from_df(ratings[['userId', 'movieId', 'rating']], reader)\n",
    "\n",
    "# Split the dataset into training and testing sets\n",
    "trainset, testset = train_test_split(data, test_size=0.3)\n",
    "\n",
    "\n",
    "model = SVD()\n",
    "model.fit(trainset)\n",
    "\n",
    "# Function to get genre-based recommendations\n",
    "def get_genre_recommendations(user_id, genre, n=10):\n",
    "    # Filter movies by genre\n",
    "    genre_movies = movies[movies['genres'].apply(lambda x: genre in x)]\n",
    "    genre_movie_ids = genre_movies['movieId'].tolist()\n",
    "    \n",
    "    # Predict ratings for genre movies\n",
    "    predictions = []\n",
    "    for movie_id in genre_movie_ids:\n",
    "        pred = model.predict(user_id, movie_id)\n",
    "        predictions.append((movie_id, pred.est))  # predictions->(movie_id, estimated_rating)\n",
    "\n",
    "    # Sort predictions by estimated rating\n",
    "    recommendations = sorted(predictions, key=lambda x: x[1], reverse=True)\n",
    "    \n",
    "    return recommendations[:n]\n",
    "\n",
    "\n",
    "# Output recommendations\n",
    "user_recommendations = get_genre_recommendations(user_id=5, genre='Comedy', n=5)\n",
    "recommended_movie_ids = [movie_id for movie_id, _ in user_recommendations]\n",
    "recommended_movies = movies[movies['movieId'].isin(recommended_movie_ids)]\n",
    "\n",
    "print(recommended_movies)\n"
   ]
  },
  {
   "cell_type": "code",
   "execution_count": 3,
   "metadata": {},
   "outputs": [
    {
     "name": "stdout",
     "output_type": "stream",
     "text": [
      "RMSE: 0.7782\n",
      "RMSE: 0.7782070819626404\n",
      "MAE:  0.5852\n",
      "MAE: 0.5851857275920634\n"
     ]
    }
   ],
   "source": [
    "# Evaluate the model\n",
    "test_predictions = model.test(testset)\n",
    "\n",
    "# Compute RMSE\n",
    "rmse = accuracy.rmse(test_predictions)\n",
    "print(f\"RMSE: {rmse}\")\n",
    "\n",
    "# Compute MAE\n",
    "mae = accuracy.mae(test_predictions)\n",
    "print(f\"MAE: {mae}\")"
   ]
  }
 ],
 "metadata": {
  "kernelspec": {
   "display_name": "base",
   "language": "python",
   "name": "python3"
  },
  "language_info": {
   "codemirror_mode": {
    "name": "ipython",
    "version": 3
   },
   "file_extension": ".py",
   "mimetype": "text/x-python",
   "name": "python",
   "nbconvert_exporter": "python",
   "pygments_lexer": "ipython3",
   "version": "3.8.8"
  }
 },
 "nbformat": 4,
 "nbformat_minor": 2
}
